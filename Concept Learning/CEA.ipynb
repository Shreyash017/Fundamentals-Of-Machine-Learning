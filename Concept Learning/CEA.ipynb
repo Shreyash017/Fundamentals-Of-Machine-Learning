{
 "cells": [
  {
   "cell_type": "code",
   "execution_count": 1,
   "metadata": {
    "id": "nxHrj8MzGHVT"
   },
   "outputs": [],
   "source": [
    "import numpy as np \n",
    "import pandas as pd"
   ]
  },
  {
   "cell_type": "code",
   "execution_count": 2,
   "metadata": {
    "id": "g293dwZqHApt"
   },
   "outputs": [],
   "source": [
    "# Dataset - 1\n",
    "# df = pd.DataFrame([('Sunny', 'Warm', 'Normal', 'Strong', 'Warm', 'Same', 'Yes'),\n",
    "#                      ('Sunny', 'Warm', 'High', 'Strong', 'Warm', 'Same', 'Yes'),\n",
    "#                      ('Rainy', 'Cold', 'High', 'Strong', 'Warm', 'Change', 'No'),\n",
    "#                      ('Sunny', 'Warm', 'High', 'Strong', 'Cool', 'Change', 'No')], columns=['Sky','Temp','Humidity','Wind','Water','Forcast','Enjoy_Sport'])\n",
    "\n",
    "# Dataset - 2\n",
    "df = pd.DataFrame([('J','H','B','1980','E','Yes'),\n",
    "             ('J','T','G','1970','S','No'),\n",
    "             ('J','T','B','1990','E','Yes'),\n",
    "             ('U','C','R','1980','E','No'),\n",
    "             ('J','H','W','1980','E','Yes')], columns=['Origin','Manufacturer','Color','Decade','Type','Value'])"
   ]
  },
  {
   "cell_type": "code",
   "execution_count": 3,
   "metadata": {
    "colab": {
     "base_uri": "https://localhost:8080/",
     "height": 175
    },
    "id": "ELoF9aHNMjwP",
    "outputId": "1d9b98e6-129e-48a3-b92c-363156fecb35"
   },
   "outputs": [
    {
     "data": {
      "text/html": [
       "<div>\n",
       "<style scoped>\n",
       "    .dataframe tbody tr th:only-of-type {\n",
       "        vertical-align: middle;\n",
       "    }\n",
       "\n",
       "    .dataframe tbody tr th {\n",
       "        vertical-align: top;\n",
       "    }\n",
       "\n",
       "    .dataframe thead th {\n",
       "        text-align: right;\n",
       "    }\n",
       "</style>\n",
       "<table border=\"1\" class=\"dataframe\">\n",
       "  <thead>\n",
       "    <tr style=\"text-align: right;\">\n",
       "      <th></th>\n",
       "      <th>Origin</th>\n",
       "      <th>Manufacturer</th>\n",
       "      <th>Color</th>\n",
       "      <th>Decade</th>\n",
       "      <th>Type</th>\n",
       "      <th>Value</th>\n",
       "    </tr>\n",
       "  </thead>\n",
       "  <tbody>\n",
       "    <tr>\n",
       "      <th>0</th>\n",
       "      <td>J</td>\n",
       "      <td>H</td>\n",
       "      <td>B</td>\n",
       "      <td>1980</td>\n",
       "      <td>E</td>\n",
       "      <td>Yes</td>\n",
       "    </tr>\n",
       "    <tr>\n",
       "      <th>1</th>\n",
       "      <td>J</td>\n",
       "      <td>T</td>\n",
       "      <td>G</td>\n",
       "      <td>1970</td>\n",
       "      <td>S</td>\n",
       "      <td>No</td>\n",
       "    </tr>\n",
       "    <tr>\n",
       "      <th>2</th>\n",
       "      <td>J</td>\n",
       "      <td>T</td>\n",
       "      <td>B</td>\n",
       "      <td>1990</td>\n",
       "      <td>E</td>\n",
       "      <td>Yes</td>\n",
       "    </tr>\n",
       "    <tr>\n",
       "      <th>3</th>\n",
       "      <td>U</td>\n",
       "      <td>C</td>\n",
       "      <td>R</td>\n",
       "      <td>1980</td>\n",
       "      <td>E</td>\n",
       "      <td>No</td>\n",
       "    </tr>\n",
       "    <tr>\n",
       "      <th>4</th>\n",
       "      <td>J</td>\n",
       "      <td>H</td>\n",
       "      <td>W</td>\n",
       "      <td>1980</td>\n",
       "      <td>E</td>\n",
       "      <td>Yes</td>\n",
       "    </tr>\n",
       "  </tbody>\n",
       "</table>\n",
       "</div>"
      ],
      "text/plain": [
       "  Origin Manufacturer Color Decade Type Value\n",
       "0      J            H     B   1980    E   Yes\n",
       "1      J            T     G   1970    S    No\n",
       "2      J            T     B   1990    E   Yes\n",
       "3      U            C     R   1980    E    No\n",
       "4      J            H     W   1980    E   Yes"
      ]
     },
     "execution_count": 3,
     "metadata": {},
     "output_type": "execute_result"
    }
   ],
   "source": [
    "df"
   ]
  },
  {
   "cell_type": "code",
   "execution_count": 4,
   "metadata": {},
   "outputs": [
    {
     "name": "stdout",
     "output_type": "stream",
     "text": [
      "The attributes are:  [['J' 'H' 'B' '1980' 'E']\n",
      " ['J' 'T' 'G' '1970' 'S']\n",
      " ['J' 'T' 'B' '1990' 'E']\n",
      " ['U' 'C' 'R' '1980' 'E']\n",
      " ['J' 'H' 'W' '1980' 'E']]\n",
      "\n",
      "Target Values are:  ['Yes' 'No' 'Yes' 'No' 'Yes']\n"
     ]
    }
   ],
   "source": [
    "attributes = np.array(df.iloc[:,0:-1])\n",
    "print(\"The attributes are: \", attributes)\n",
    "\n",
    "target = np.array(df.iloc[:,-1])\n",
    "print(\"\\nTarget Values are: \", target)"
   ]
  },
  {
   "cell_type": "code",
   "execution_count": 5,
   "metadata": {
    "colab": {
     "base_uri": "https://localhost:8080/",
     "height": 0
    },
    "id": "cmQf3qOrF6CJ",
    "outputId": "36c26a92-cedc-4080-953b-cef01579a4f0"
   },
   "outputs": [],
   "source": [
    "def learn(attributes, target): \n",
    "    specific_h = attributes[0].copy()\n",
    "    print(\"\\nInitialization of specific_h and genearal_h\")\n",
    "    print(\"\\nSpecific Boundary: \", specific_h)\n",
    "    general_h = [[\"?\" for i in range(len(specific_h))] for i in range(len(specific_h))]\n",
    "    print(\"\\nGeneric Boundary: \",general_h)  \n",
    "\n",
    "    for i, h in enumerate(attributes):\n",
    "        print(\"\\nInstance\", i+1 , \"is \", h)\n",
    "        if target[i] == \"Yes\":\n",
    "            print(\"Instance is Positive \")\n",
    "            for x in range(len(specific_h)): \n",
    "                if h[x]!= specific_h[x]:                    \n",
    "                    specific_h[x] ='?'                     \n",
    "                    general_h[x][x] ='?'\n",
    "                   \n",
    "        if target[i] == \"No\":            \n",
    "            print(\"Instance is Negative \")\n",
    "            for x in range(len(specific_h)): \n",
    "                if h[x]!= specific_h[x]:                    \n",
    "                    general_h[x][x] = specific_h[x]                \n",
    "                else:                    \n",
    "                    general_h[x][x] = '?'        \n",
    "        \n",
    "        print(\"Specific Bundary after \", i+1, \"Instance is \", specific_h)         \n",
    "        print(\"Generic Boundary after \", i+1, \"Instance is \", general_h)\n",
    "        print(\"\\n\")\n",
    "\n",
    "    indices = [i for i, val in enumerate(general_h) if val == ['?', '?', '?', '?', '?', '?']]    \n",
    "    for i in indices:   \n",
    "        general_h.remove(['?', '?', '?', '?', '?', '?']) \n",
    "        \n",
    "    return specific_h, general_h "
   ]
  },
  {
   "cell_type": "code",
   "execution_count": 6,
   "metadata": {},
   "outputs": [
    {
     "name": "stdout",
     "output_type": "stream",
     "text": [
      "\n",
      "Initialization of specific_h and genearal_h\n",
      "\n",
      "Specific Boundary:  ['J' 'H' 'B' '1980' 'E']\n",
      "\n",
      "Generic Boundary:  [['?', '?', '?', '?', '?'], ['?', '?', '?', '?', '?'], ['?', '?', '?', '?', '?'], ['?', '?', '?', '?', '?'], ['?', '?', '?', '?', '?']]\n",
      "\n",
      "Instance 1 is  ['J' 'H' 'B' '1980' 'E']\n",
      "Instance is Positive \n",
      "Specific Bundary after  1 Instance is  ['J' 'H' 'B' '1980' 'E']\n",
      "Generic Boundary after  1 Instance is  [['?', '?', '?', '?', '?'], ['?', '?', '?', '?', '?'], ['?', '?', '?', '?', '?'], ['?', '?', '?', '?', '?'], ['?', '?', '?', '?', '?']]\n",
      "\n",
      "\n",
      "\n",
      "Instance 2 is  ['J' 'T' 'G' '1970' 'S']\n",
      "Instance is Negative \n",
      "Specific Bundary after  2 Instance is  ['J' 'H' 'B' '1980' 'E']\n",
      "Generic Boundary after  2 Instance is  [['?', '?', '?', '?', '?'], ['?', 'H', '?', '?', '?'], ['?', '?', 'B', '?', '?'], ['?', '?', '?', '1980', '?'], ['?', '?', '?', '?', 'E']]\n",
      "\n",
      "\n",
      "\n",
      "Instance 3 is  ['J' 'T' 'B' '1990' 'E']\n",
      "Instance is Positive \n",
      "Specific Bundary after  3 Instance is  ['J' '?' 'B' '?' 'E']\n",
      "Generic Boundary after  3 Instance is  [['?', '?', '?', '?', '?'], ['?', '?', '?', '?', '?'], ['?', '?', 'B', '?', '?'], ['?', '?', '?', '?', '?'], ['?', '?', '?', '?', 'E']]\n",
      "\n",
      "\n",
      "\n",
      "Instance 4 is  ['U' 'C' 'R' '1980' 'E']\n",
      "Instance is Negative \n",
      "Specific Bundary after  4 Instance is  ['J' '?' 'B' '?' 'E']\n",
      "Generic Boundary after  4 Instance is  [['J', '?', '?', '?', '?'], ['?', '?', '?', '?', '?'], ['?', '?', 'B', '?', '?'], ['?', '?', '?', '?', '?'], ['?', '?', '?', '?', '?']]\n",
      "\n",
      "\n",
      "\n",
      "Instance 5 is  ['J' 'H' 'W' '1980' 'E']\n",
      "Instance is Positive \n",
      "Specific Bundary after  5 Instance is  ['J' '?' '?' '?' 'E']\n",
      "Generic Boundary after  5 Instance is  [['J', '?', '?', '?', '?'], ['?', '?', '?', '?', '?'], ['?', '?', '?', '?', '?'], ['?', '?', '?', '?', '?'], ['?', '?', '?', '?', '?']]\n",
      "\n",
      "\n",
      "Final Specific_h: \n",
      "['J' '?' '?' '?' 'E']\n",
      "Final General_h: \n",
      "[['J', '?', '?', '?', '?'], ['?', '?', '?', '?', '?'], ['?', '?', '?', '?', '?'], ['?', '?', '?', '?', '?'], ['?', '?', '?', '?', '?']]\n"
     ]
    }
   ],
   "source": [
    "s_final, g_final = learn(attributes, target)\n",
    "\n",
    "print(\"Final Specific_h: \", s_final, sep=\"\\n\")\n",
    "print(\"Final General_h: \", g_final, sep=\"\\n\")"
   ]
  }
 ],
 "metadata": {
  "colab": {
   "collapsed_sections": [],
   "name": "CEA1.ipynb",
   "provenance": []
  },
  "kernelspec": {
   "display_name": "Python 3 (ipykernel)",
   "language": "python",
   "name": "python3"
  },
  "language_info": {
   "codemirror_mode": {
    "name": "ipython",
    "version": 3
   },
   "file_extension": ".py",
   "mimetype": "text/x-python",
   "name": "python",
   "nbconvert_exporter": "python",
   "pygments_lexer": "ipython3",
   "version": "3.9.12"
  }
 },
 "nbformat": 4,
 "nbformat_minor": 1
}
