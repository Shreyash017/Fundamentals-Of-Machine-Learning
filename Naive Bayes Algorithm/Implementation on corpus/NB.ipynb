{
 "cells": [
  {
   "cell_type": "markdown",
   "id": "fd744f51",
   "metadata": {},
   "source": [
    "# Naive Bayes Algorithm "
   ]
  },
  {
   "cell_type": "markdown",
   "id": "167e615e",
   "metadata": {},
   "source": [
    "## Importing the libraries"
   ]
  },
  {
   "cell_type": "code",
   "execution_count": 1,
   "id": "e2bc6416",
   "metadata": {},
   "outputs": [],
   "source": [
    "import numpy as np\n",
    "import pandas as pd\n",
    "import matplotlib.pyplot as plt\n",
    "import seaborn as sns"
   ]
  },
  {
   "cell_type": "code",
   "execution_count": 2,
   "id": "040fb5fa",
   "metadata": {},
   "outputs": [],
   "source": [
    "import warnings\n",
    "warnings.filterwarnings('ignore')"
   ]
  },
  {
   "cell_type": "markdown",
   "id": "db8abde3",
   "metadata": {},
   "source": [
    "## Importing the Training & Testing dataset"
   ]
  },
  {
   "cell_type": "code",
   "execution_count": 3,
   "id": "60a435e8",
   "metadata": {},
   "outputs": [],
   "source": [
    "df1 = pd.read_csv(\"example_train.csv\")\n",
    "df2 = pd.read_csv(\"example_test.csv\")"
   ]
  },
  {
   "cell_type": "code",
   "execution_count": 4,
   "id": "5126392f",
   "metadata": {},
   "outputs": [
    {
     "data": {
      "text/html": [
       "<div>\n",
       "<style scoped>\n",
       "    .dataframe tbody tr th:only-of-type {\n",
       "        vertical-align: middle;\n",
       "    }\n",
       "\n",
       "    .dataframe tbody tr th {\n",
       "        vertical-align: top;\n",
       "    }\n",
       "\n",
       "    .dataframe thead th {\n",
       "        text-align: right;\n",
       "    }\n",
       "</style>\n",
       "<table border=\"1\" class=\"dataframe\">\n",
       "  <thead>\n",
       "    <tr style=\"text-align: right;\">\n",
       "      <th></th>\n",
       "      <th>Document</th>\n",
       "      <th>Class</th>\n",
       "    </tr>\n",
       "  </thead>\n",
       "  <tbody>\n",
       "    <tr>\n",
       "      <th>0</th>\n",
       "      <td>Upgrad is a great educational institution.</td>\n",
       "      <td>education</td>\n",
       "    </tr>\n",
       "    <tr>\n",
       "      <th>1</th>\n",
       "      <td>Educational greatness depends on ethics</td>\n",
       "      <td>education</td>\n",
       "    </tr>\n",
       "    <tr>\n",
       "      <th>2</th>\n",
       "      <td>A story of great ethics and educational greatness</td>\n",
       "      <td>education</td>\n",
       "    </tr>\n",
       "    <tr>\n",
       "      <th>3</th>\n",
       "      <td>Sholey is a great cinema</td>\n",
       "      <td>cinema</td>\n",
       "    </tr>\n",
       "    <tr>\n",
       "      <th>4</th>\n",
       "      <td>good movie depends on good story</td>\n",
       "      <td>cinema</td>\n",
       "    </tr>\n",
       "  </tbody>\n",
       "</table>\n",
       "</div>"
      ],
      "text/plain": [
       "                                            Document      Class\n",
       "0         Upgrad is a great educational institution.  education\n",
       "1            Educational greatness depends on ethics  education\n",
       "2  A story of great ethics and educational greatness  education\n",
       "3                           Sholey is a great cinema     cinema\n",
       "4                   good movie depends on good story     cinema"
      ]
     },
     "execution_count": 4,
     "metadata": {},
     "output_type": "execute_result"
    }
   ],
   "source": [
    "df1"
   ]
  },
  {
   "cell_type": "code",
   "execution_count": 5,
   "id": "5b2b61f2",
   "metadata": {},
   "outputs": [
    {
     "data": {
      "text/html": [
       "<div>\n",
       "<style scoped>\n",
       "    .dataframe tbody tr th:only-of-type {\n",
       "        vertical-align: middle;\n",
       "    }\n",
       "\n",
       "    .dataframe tbody tr th {\n",
       "        vertical-align: top;\n",
       "    }\n",
       "\n",
       "    .dataframe thead th {\n",
       "        text-align: right;\n",
       "    }\n",
       "</style>\n",
       "<table border=\"1\" class=\"dataframe\">\n",
       "  <thead>\n",
       "    <tr style=\"text-align: right;\">\n",
       "      <th></th>\n",
       "      <th>Document</th>\n",
       "      <th>Class</th>\n",
       "    </tr>\n",
       "  </thead>\n",
       "  <tbody>\n",
       "    <tr>\n",
       "      <th>0</th>\n",
       "      <td>very good educational institution</td>\n",
       "      <td>education</td>\n",
       "    </tr>\n",
       "  </tbody>\n",
       "</table>\n",
       "</div>"
      ],
      "text/plain": [
       "                            Document      Class\n",
       "0  very good educational institution  education"
      ]
     },
     "execution_count": 5,
     "metadata": {},
     "output_type": "execute_result"
    }
   ],
   "source": [
    "df2"
   ]
  },
  {
   "cell_type": "markdown",
   "id": "fd568c8b",
   "metadata": {},
   "source": [
    "## Pre-processing the datasets"
   ]
  },
  {
   "cell_type": "code",
   "execution_count": 6,
   "id": "f7a3d9fe",
   "metadata": {},
   "outputs": [],
   "source": [
    "df1['Class'] = df1['Class'].map({'education':1,'cinema':0})"
   ]
  },
  {
   "cell_type": "code",
   "execution_count": 7,
   "id": "a0156d6a",
   "metadata": {},
   "outputs": [
    {
     "data": {
      "text/html": [
       "<div>\n",
       "<style scoped>\n",
       "    .dataframe tbody tr th:only-of-type {\n",
       "        vertical-align: middle;\n",
       "    }\n",
       "\n",
       "    .dataframe tbody tr th {\n",
       "        vertical-align: top;\n",
       "    }\n",
       "\n",
       "    .dataframe thead th {\n",
       "        text-align: right;\n",
       "    }\n",
       "</style>\n",
       "<table border=\"1\" class=\"dataframe\">\n",
       "  <thead>\n",
       "    <tr style=\"text-align: right;\">\n",
       "      <th></th>\n",
       "      <th>Document</th>\n",
       "      <th>Class</th>\n",
       "    </tr>\n",
       "  </thead>\n",
       "  <tbody>\n",
       "    <tr>\n",
       "      <th>0</th>\n",
       "      <td>Upgrad is a great educational institution.</td>\n",
       "      <td>1</td>\n",
       "    </tr>\n",
       "    <tr>\n",
       "      <th>1</th>\n",
       "      <td>Educational greatness depends on ethics</td>\n",
       "      <td>1</td>\n",
       "    </tr>\n",
       "    <tr>\n",
       "      <th>2</th>\n",
       "      <td>A story of great ethics and educational greatness</td>\n",
       "      <td>1</td>\n",
       "    </tr>\n",
       "    <tr>\n",
       "      <th>3</th>\n",
       "      <td>Sholey is a great cinema</td>\n",
       "      <td>0</td>\n",
       "    </tr>\n",
       "    <tr>\n",
       "      <th>4</th>\n",
       "      <td>good movie depends on good story</td>\n",
       "      <td>0</td>\n",
       "    </tr>\n",
       "  </tbody>\n",
       "</table>\n",
       "</div>"
      ],
      "text/plain": [
       "                                            Document  Class\n",
       "0         Upgrad is a great educational institution.      1\n",
       "1            Educational greatness depends on ethics      1\n",
       "2  A story of great ethics and educational greatness      1\n",
       "3                           Sholey is a great cinema      0\n",
       "4                   good movie depends on good story      0"
      ]
     },
     "execution_count": 7,
     "metadata": {},
     "output_type": "execute_result"
    }
   ],
   "source": [
    "df1"
   ]
  },
  {
   "cell_type": "code",
   "execution_count": 8,
   "id": "520b76c9",
   "metadata": {},
   "outputs": [],
   "source": [
    "X_train = df1.values[:,0]\n",
    "y_train = df1.values[:,1]\n",
    "y_train = y_train.astype('int')"
   ]
  },
  {
   "cell_type": "code",
   "execution_count": 9,
   "id": "b4db3122",
   "metadata": {},
   "outputs": [],
   "source": [
    "df2['Class'] = df2['Class'].map({'education':1,'cinema':0})"
   ]
  },
  {
   "cell_type": "code",
   "execution_count": 10,
   "id": "179e561d",
   "metadata": {},
   "outputs": [
    {
     "data": {
      "text/html": [
       "<div>\n",
       "<style scoped>\n",
       "    .dataframe tbody tr th:only-of-type {\n",
       "        vertical-align: middle;\n",
       "    }\n",
       "\n",
       "    .dataframe tbody tr th {\n",
       "        vertical-align: top;\n",
       "    }\n",
       "\n",
       "    .dataframe thead th {\n",
       "        text-align: right;\n",
       "    }\n",
       "</style>\n",
       "<table border=\"1\" class=\"dataframe\">\n",
       "  <thead>\n",
       "    <tr style=\"text-align: right;\">\n",
       "      <th></th>\n",
       "      <th>Document</th>\n",
       "      <th>Class</th>\n",
       "    </tr>\n",
       "  </thead>\n",
       "  <tbody>\n",
       "    <tr>\n",
       "      <th>0</th>\n",
       "      <td>very good educational institution</td>\n",
       "      <td>1</td>\n",
       "    </tr>\n",
       "  </tbody>\n",
       "</table>\n",
       "</div>"
      ],
      "text/plain": [
       "                            Document  Class\n",
       "0  very good educational institution      1"
      ]
     },
     "execution_count": 10,
     "metadata": {},
     "output_type": "execute_result"
    }
   ],
   "source": [
    "df2"
   ]
  },
  {
   "cell_type": "code",
   "execution_count": 11,
   "id": "f67eb13d",
   "metadata": {},
   "outputs": [],
   "source": [
    "X_test = df2.values[:,0]\n",
    "y_test = df2.values[:,1]\n",
    "y_test = y_test.astype('int')"
   ]
  },
  {
   "cell_type": "markdown",
   "id": "3117965f",
   "metadata": {},
   "source": [
    "## Feature Extraction by using Word-bag"
   ]
  },
  {
   "cell_type": "code",
   "execution_count": 12,
   "id": "047c1938",
   "metadata": {},
   "outputs": [
    {
     "data": {
      "text/plain": [
       "{'upgrad': 11,\n",
       " 'great': 5,\n",
       " 'educational': 2,\n",
       " 'institution': 7,\n",
       " 'greatness': 6,\n",
       " 'depends': 1,\n",
       " 'ethics': 3,\n",
       " 'story': 10,\n",
       " 'sholey': 9,\n",
       " 'cinema': 0,\n",
       " 'good': 4,\n",
       " 'movie': 8}"
      ]
     },
     "execution_count": 12,
     "metadata": {},
     "output_type": "execute_result"
    }
   ],
   "source": [
    "from sklearn.feature_extraction.text import CountVectorizer \n",
    "\n",
    "vc = CountVectorizer(stop_words='english')\n",
    "vc.fit(X_train)\n",
    "vc.vocabulary_"
   ]
  },
  {
   "cell_type": "code",
   "execution_count": 13,
   "id": "ba806358",
   "metadata": {},
   "outputs": [
    {
     "name": "stdout",
     "output_type": "stream",
     "text": [
      "['cinema' 'depends' 'educational' 'ethics' 'good' 'great' 'greatness'\n",
      " 'institution' 'movie' 'sholey' 'story' 'upgrad']\n",
      "12\n"
     ]
    }
   ],
   "source": [
    "print(vc.get_feature_names_out())\n",
    "print(len(vc.get_feature_names_out()))"
   ]
  },
  {
   "cell_type": "markdown",
   "id": "9becddac",
   "metadata": {},
   "source": [
    "## Encoding"
   ]
  },
  {
   "cell_type": "code",
   "execution_count": 14,
   "id": "81971c2e",
   "metadata": {},
   "outputs": [],
   "source": [
    "X_train_transformed = vc.transform(X_train)"
   ]
  },
  {
   "cell_type": "code",
   "execution_count": 15,
   "id": "b3dc598f",
   "metadata": {},
   "outputs": [],
   "source": [
    "X_test_transformed = vc.transform(X_test)"
   ]
  },
  {
   "cell_type": "code",
   "execution_count": 16,
   "id": "288449ef",
   "metadata": {},
   "outputs": [
    {
     "data": {
      "text/plain": [
       "array([[0, 0, 1, 0, 0, 1, 0, 1, 0, 0, 0, 1],\n",
       "       [0, 1, 1, 1, 0, 0, 1, 0, 0, 0, 0, 0],\n",
       "       [0, 0, 1, 1, 0, 1, 1, 0, 0, 0, 1, 0],\n",
       "       [1, 0, 0, 0, 0, 1, 0, 0, 0, 1, 0, 0],\n",
       "       [0, 1, 0, 0, 2, 0, 0, 0, 1, 0, 1, 0]], dtype=int64)"
      ]
     },
     "execution_count": 16,
     "metadata": {},
     "output_type": "execute_result"
    }
   ],
   "source": [
    "X_train_transformed1 = X_train_transformed.toarray()\n",
    "X_train_transformed1"
   ]
  },
  {
   "cell_type": "code",
   "execution_count": 17,
   "id": "a3f54c09",
   "metadata": {},
   "outputs": [
    {
     "data": {
      "text/plain": [
       "array([[0, 0, 1, 0, 1, 0, 0, 1, 0, 0, 0, 0]], dtype=int64)"
      ]
     },
     "execution_count": 17,
     "metadata": {},
     "output_type": "execute_result"
    }
   ],
   "source": [
    "X_test_transformed1 = X_test_transformed.toarray()\n",
    "X_test_transformed1"
   ]
  },
  {
   "cell_type": "markdown",
   "id": "23f69a53",
   "metadata": {},
   "source": [
    "## Multinomial Naive Bayes Classifier"
   ]
  },
  {
   "cell_type": "code",
   "execution_count": 18,
   "id": "2a81c3fa",
   "metadata": {},
   "outputs": [],
   "source": [
    "from sklearn.metrics import accuracy_score, confusion_matrix, classification_report, plot_confusion_matrix"
   ]
  },
  {
   "cell_type": "code",
   "execution_count": 19,
   "id": "c25ed2e8",
   "metadata": {},
   "outputs": [
    {
     "name": "stdout",
     "output_type": "stream",
     "text": [
      "Training Accuracy:  100.0\n",
      "Validation Accuracy:  100.0\n"
     ]
    }
   ],
   "source": [
    "from sklearn.naive_bayes import MultinomialNB\n",
    "\n",
    "mnb=MultinomialNB()\n",
    "mnb.fit(X_train_transformed1, y_train)\n",
    "y_predMNB = mnb.predict(X_test_transformed1)\n",
    "\n",
    "acc_mnbTrain = mnb.score(X_train_transformed1, y_train) * 100\n",
    "acc_mnbTest = accuracy_score(y_predMNB, y_test) * 100\n",
    "print(\"Training Accuracy: \", acc_mnbTrain)\n",
    "print(\"Validation Accuracy: \", acc_mnbTest)"
   ]
  },
  {
   "cell_type": "markdown",
   "id": "70fcb5f0",
   "metadata": {},
   "source": [
    "## Bernoulli Naive Bayes Classifier"
   ]
  },
  {
   "cell_type": "code",
   "execution_count": 20,
   "id": "1b5f804c",
   "metadata": {},
   "outputs": [
    {
     "name": "stdout",
     "output_type": "stream",
     "text": [
      "Training Accuracy:  100.0\n",
      "Validation Accuracy:  100.0\n"
     ]
    }
   ],
   "source": [
    "from sklearn.naive_bayes import BernoulliNB\n",
    "\n",
    "bnb = BernoulliNB()\n",
    "bnb.fit(X_train_transformed1, y_train)\n",
    "y_predBNB = bnb.predict(X_test_transformed1)\n",
    "\n",
    "acc_bnbTrain = bnb.score(X_train_transformed1, y_train) * 100\n",
    "acc_bnbTest = accuracy_score(y_predBNB, y_test) * 100\n",
    "print(\"Training Accuracy: \", acc_bnbTrain)\n",
    "print(\"Validation Accuracy: \", acc_bnbTest)"
   ]
  }
 ],
 "metadata": {
  "kernelspec": {
   "display_name": "Python 3 (ipykernel)",
   "language": "python",
   "name": "python3"
  },
  "language_info": {
   "codemirror_mode": {
    "name": "ipython",
    "version": 3
   },
   "file_extension": ".py",
   "mimetype": "text/x-python",
   "name": "python",
   "nbconvert_exporter": "python",
   "pygments_lexer": "ipython3",
   "version": "3.9.12"
  }
 },
 "nbformat": 4,
 "nbformat_minor": 5
}
